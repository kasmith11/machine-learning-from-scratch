{
 "cells": [
  {
   "cell_type": "code",
   "execution_count": 1,
   "id": "a0066ff0",
   "metadata": {},
   "outputs": [
    {
     "name": "stderr",
     "output_type": "stream",
     "text": [
      "/home/ksmith/anaconda3/envs/SpeechT5/lib/python3.8/site-packages/tqdm/auto.py:22: TqdmWarning: IProgress not found. Please update jupyter and ipywidgets. See https://ipywidgets.readthedocs.io/en/stable/user_install.html\n",
      "  from .autonotebook import tqdm as notebook_tqdm\n"
     ]
    }
   ],
   "source": [
    "from IPython.display import Image, display\n",
    "from IPython.core.display import HTML\n",
    "import torch"
   ]
  },
  {
   "cell_type": "markdown",
   "id": "302b8883",
   "metadata": {},
   "source": [
    "# Sparse Transformer"
   ]
  },
  {
   "cell_type": "markdown",
   "id": "e6e7205b",
   "metadata": {},
   "source": [
    "[Sparse Transformers](https://arxiv.org/pdf/1904.10509.pdf) proposes 1. an architecture variation and initialization 2. memory efficient computation method for attention matricies 3. an attention kernel to improve speed"
   ]
  },
  {
   "cell_type": "code",
   "execution_count": 2,
   "id": "a9f1dd07",
   "metadata": {},
   "outputs": [
    {
     "data": {
      "text/html": [
       "<img src=\"https://d3i71xaburhd42.cloudfront.net/21da617a0f79aabf94272107184606cefe90ab75/5-Figure4-1.png\" width=\"300\" height=\"500\"/>"
      ],
      "text/plain": [
       "<IPython.core.display.Image object>"
      ]
     },
     "execution_count": 2,
     "metadata": {},
     "output_type": "execute_result"
    }
   ],
   "source": [
    "Image(url='https://d3i71xaburhd42.cloudfront.net/21da617a0f79aabf94272107184606cefe90ab75/5-Figure4-1.png', height = 500, width = 300)"
   ]
  },
  {
   "cell_type": "code",
   "execution_count": 3,
   "id": "536baff6",
   "metadata": {},
   "outputs": [
    {
     "data": {
      "text/plain": [
       "torch.Size([20, 5, 10])"
      ]
     },
     "execution_count": 3,
     "metadata": {},
     "output_type": "execute_result"
    }
   ],
   "source": [
    "batch, sentence_length, embedding_dim = 20, 5, 10\n",
    "embedding = torch.randn(batch, sentence_length, embedding_dim)\n",
    "\n",
    "embedding.shape"
   ]
  },
  {
   "cell_type": "code",
   "execution_count": 4,
   "id": "44490be3",
   "metadata": {},
   "outputs": [
    {
     "data": {
      "text/plain": [
       "torch.Size([20, 5, 10])"
      ]
     },
     "execution_count": 4,
     "metadata": {},
     "output_type": "execute_result"
    }
   ],
   "source": [
    "\"\"\"\n",
    "Paper - https://arxiv.org/pdf/1904.10509.pdf\n",
    "Building models in pytorch - https://pytorch.org/tutorials/beginner/introyt/modelsyt_tutorial.html\n",
    "LayerNorm - https://pytorch.org/docs/stable/generated/torch.nn.LayerNorm.html\n",
    "Linear Layer - https://pytorch.org/docs/stable/generated/torch.nn.Linear.html\n",
    "MultiHeadAttention - https://pytorch.org/docs/stable/generated/torch.nn.MultiheadAttention.html\n",
    "Dropout - https://pytorch.org/docs/stable/generated/torch.nn.Dropout.html\n",
    "GELU - https://pytorch.org/docs/stable/generated/torch.nn.GELU.html\n",
    "Softmax - https://pytorch.org/docs/stable/generated/torch.nn.Softmax.html\n",
    "\"\"\"\n",
    "\n",
    "import torch\n",
    "\n",
    "batch, sentence_length, embedding_dim = 20, 5, 10\n",
    "embedding = torch.randn(batch, sentence_length, embedding_dim)\n",
    "\n",
    "class ResidualBlock(torch.nn.Module):\n",
    "    def __init__(self):\n",
    "        super(ResidualBlock, self).__init__()\n",
    "        self.norm = torch.nn.LayerNorm((sentence_length, embedding_dim))\n",
    "        self.linear = torch.nn.Linear(in_features = embedding_dim, out_features = 10)\n",
    "        self.attention = torch.nn.MultiheadAttention(embed_dim = embedding_dim, num_heads = 1)\n",
    "        self.dropout = torch.nn.Dropout()\n",
    "        self.gelu = torch.nn.GELU()\n",
    "\n",
    "    def forward(self, x):\n",
    "        res = self.norm(x)\n",
    "        res, attn_output_weights = self.attention(res, res, res)\n",
    "        res = self.dropout(res)\n",
    "        res += x\n",
    "        res = self.norm(res)\n",
    "        res = self.linear(res)\n",
    "        res = self.gelu(res)\n",
    "        res = self.dropout(res)\n",
    "        res += x\n",
    "        return res\n",
    "    \n",
    "ResBlock = ResidualBlock()\n",
    "ResBlock.forward(embedding).shape"
   ]
  },
  {
   "cell_type": "code",
   "execution_count": 13,
   "id": "b7e982af",
   "metadata": {},
   "outputs": [
    {
     "data": {
      "text/plain": [
       "torch.Size([20, 5])"
      ]
     },
     "execution_count": 13,
     "metadata": {},
     "output_type": "execute_result"
    }
   ],
   "source": [
    "class SparseTransformer(torch.nn.Module):\n",
    "    def __init__(self):\n",
    "        super(SparseTransformer, self).__init__()\n",
    "        self.ResBlock = ResidualBlock()\n",
    "        self.linear = torch.nn.Linear(in_features = embedding_dim*5, out_features = 5)\n",
    "        self.softmax = torch.nn.Softmax(dim = 1)\n",
    "        \n",
    "    def forward(self, x):\n",
    "        x = self.ResBlock(x)\n",
    "        x = self.linear(x.view([-1, 50]))\n",
    "        x = self.softmax(x)\n",
    "        return x\n",
    "    \n",
    "SparseTransformer = SparseTransformer()\n",
    "SparseTransformer.forward(embedding).shape"
   ]
  },
  {
   "cell_type": "code",
   "execution_count": 9,
   "id": "1b78a645",
   "metadata": {},
   "outputs": [],
   "source": [
    "data = torch.randn(2, 3)"
   ]
  },
  {
   "cell_type": "code",
   "execution_count": 12,
   "id": "209c01d8",
   "metadata": {},
   "outputs": [
    {
     "data": {
      "text/plain": [
       "tensor([[0.9110, 0.6456, 0.3931],\n",
       "        [0.0890, 0.3544, 0.6069]])"
      ]
     },
     "execution_count": 12,
     "metadata": {},
     "output_type": "execute_result"
    }
   ],
   "source": [
    "m = torch.nn.Softmax(dim=0)\n",
    "output = m(data)\n",
    "output"
   ]
  },
  {
   "cell_type": "code",
   "execution_count": null,
   "id": "e058c9bd",
   "metadata": {},
   "outputs": [],
   "source": []
  }
 ],
 "metadata": {
  "kernelspec": {
   "display_name": "Python 3 (ipykernel)",
   "language": "python",
   "name": "python3"
  },
  "language_info": {
   "codemirror_mode": {
    "name": "ipython",
    "version": 3
   },
   "file_extension": ".py",
   "mimetype": "text/x-python",
   "name": "python",
   "nbconvert_exporter": "python",
   "pygments_lexer": "ipython3",
   "version": "3.8.13"
  }
 },
 "nbformat": 4,
 "nbformat_minor": 5
}
